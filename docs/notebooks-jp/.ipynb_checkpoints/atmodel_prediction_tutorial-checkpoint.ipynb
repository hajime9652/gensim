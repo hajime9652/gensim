{
 "cells": [
  {
   "cell_type": "markdown",
   "metadata": {},
   "source": [
    "# Authorship prediction with the author-topic model"
   ]
  },
  {
   "cell_type": "markdown",
   "metadata": {},
   "source": [
    "In this tutorial, you will learn how to use the author-topic model in Gensim for authorship prediction, based on the topic distributions and mesuring their similarity.\n",
    "We will train the author-topic model on a Reuters dataset, which contains 50 authors, each with 50 documents for trianing and another 50 documents for testing: https://archive.ics.uci.edu/ml/datasets/Reuter_50_50 ."
   ]
  },
  {
   "cell_type": "markdown",
   "metadata": {},
   "source": [
    "If you wish to learn more about the Author-topic model and LDA and how to train them, you should check out these tutorials beforehand. A lot of the preprocessing and configuration here has been done using their example:\n",
    "* [LDA training tips](https://nbviewer.jupyter.org/github/rare-technologies/gensim/blob/develop/docs/notebooks/lda_training_tips.ipynb)\n",
    "* [Training the author-topic model](https://nbviewer.jupyter.org/github/rare-technologies/gensim/blob/develop/docs/notebooks/atmodel_tutorial.ipynb)"
   ]
  },
  {
   "cell_type": "markdown",
   "metadata": {},
   "source": [
    "> **NOTE:**\n",
    ">\n",
    "> To run this tutorial on your own, install Jupyter, Gensim, SpaCy, Scikit-Learn, Bokeh and Pandas, e.g. using pip:\n",
    ">\n",
    "> `pip install jupyter gensim spacy sklearn bokeh pandas`\n",
    ">\n",
    "> Note that you need to download some data for SpaCy using `python -m spacy.en.download`.\n",
    ">\n",
    "> Download the notebook at https://github.com/RaRe-Technologies/gensim/tree/develop/docs/notebooks/atmodel_prediction_tutorial.ipynb.\n"
   ]
  },
  {
   "cell_type": "markdown",
   "metadata": {},
   "source": [
    "Predicting the author of a document is a difficult task, where current approaches usually turn to neural networks. These base a lot of their predictions on learing stylistic and syntactic preferences of the authors and also other features which help rather identify the author. \n",
    "\n",
    "In our case, we first model the domain knowledge of a certain author, based on what the author writes about. We do this by calculating the topic distributions for each author using the author-topic model.\n",
    "After that, we perform the [new author inference](https://github.com/RaRe-Technologies/gensim/pull/1766) on the held-out subset. This again calculates a topic distribution for this new unknown author. \n",
    "In order to perform the prediction, we find out of all known authors, the most similar one to the new unknown. Mathematically speaking, we find the author, whose topic distribution is the closest to the topic distribution of the new author, by a certrain distrance function or metric. \n",
    "Here we explore the [Hellinger distance](https://en.wikipedia.org/wiki/Hellinger_distance) for the measuring the distance between two discrete multinomial topic distributions."
   ]
  },
  {
   "cell_type": "markdown",
   "metadata": {},
   "source": [
    "We start off by downloading the dataset. You can do it manually using the aforementioned link, or run the following code cell."
   ]
  },
  {
   "cell_type": "code",
   "execution_count": null,
   "metadata": {},
   "outputs": [],
   "source": [
    "!wget -O - \"https://archive.ics.uci.edu/ml/machine-learning-databases/00217/C50.zip\" > /tmp/C50.zip"
   ]
  },
  {
   "cell_type": "code",
   "execution_count": null,
   "metadata": {
    "collapsed": true
   },
   "outputs": [],
   "source": [
    "import logging\n",
    "logging.basicConfig(format='%(asctime)s %(levelname)s:%(message)s', level=logging.DEBUG, datefmt='%I:%M:%S')"
   ]
  },
  {
   "cell_type": "code",
   "execution_count": null,
   "metadata": {
    "collapsed": true
   },
   "outputs": [],
   "source": [
    "import zipfile\n",
    "\n",
    "filename = '/tmp/C50.zip'\n",
    "\n",
    "zip_ref = zipfile.ZipFile(filename, 'r')\n",
    "zip_ref.extractall(\"/tmp/\")\n",
    "zip_ref.close()"
   ]
  },
  {
   "cell_type": "markdown",
   "metadata": {},
   "source": [
    "We wrap all the preprocessing steps, that you can find more about in the [author-topic notebook](https://nbviewer.jupyter.org/github/rare-technologies/gensim/blob/develop/docs/notebooks/atmodel_tutorial.ipynb) , in one fucntion so that we are able to iterate over different preprocessing parameters."
   ]
  },
  {
   "cell_type": "code",
   "execution_count": null,
   "metadata": {
    "collapsed": true
   },
   "outputs": [],
   "source": [
    "import os, re, io\n",
    "def preprocess_docs(data_dir):\n",
    "    doc_ids = []\n",
    "    author2doc = {}\n",
    "    docs = []\n",
    "    \n",
    "    folders = os.listdir(data_dir)  # List of filenames.\n",
    "    for authorname in folders:\n",
    "        files = file = os.listdir(data_dir + '/' + authorname)\n",
    "        for filen in files:\n",
    "            (idx1, idx2) = re.search('[0-9]+', filen).span()  # Matches the indexes of the start end end of the ID.\n",
    "            if not author2doc.get(authorname):\n",
    "                # This is a new author.\n",
    "                author2doc[authorname] = []\n",
    "            doc_id = str(int(filen[idx1:idx2]))\n",
    "            doc_ids.append(doc_id)\n",
    "            author2doc[authorname].extend([doc_id])\n",
    "\n",
    "            # Read document text.\n",
    "            # Note: ignoring characters that cause encoding errors.\n",
    "            with io.open(data_dir + '/' + authorname + '/' + filen, errors='ignore', encoding='utf-8') as fid:\n",
    "                txt = fid.read()\n",
    "\n",
    "            # Replace any whitespace (newline, tabs, etc.) by a single space.\n",
    "            txt = re.sub('\\s', ' ', txt)\n",
    "            docs.append(txt)\n",
    "            \n",
    "    doc_id_dict = dict(zip(doc_ids, range(len(doc_ids))))\n",
    "    # Replace dataset IDs by integer IDs.\n",
    "    for a, a_doc_ids in author2doc.items():\n",
    "        for i, doc_id in enumerate(a_doc_ids):\n",
    "            author2doc[a][i] = doc_id_dict[doc_id]\n",
    "    import spacy\n",
    "    nlp = spacy.load('en')\n",
    "    \n",
    "    %%time\n",
    "    processed_docs = []\n",
    "    for doc in nlp.pipe(docs, n_threads=4, batch_size=100):\n",
    "        # Process document using Spacy NLP pipeline.\n",
    "\n",
    "        ents = doc.ents  # Named entities.\n",
    "\n",
    "        # Keep only words (no numbers, no punctuation).\n",
    "        # Lemmatize tokens, remove punctuation and remove stopwords.\n",
    "        doc = [token.lemma_ for token in doc if token.is_alpha and not token.is_stop]\n",
    "\n",
    "        # Remove common words from a stopword list.\n",
    "        #doc = [token for token in doc if token not in STOPWORDS]\n",
    "\n",
    "        # Add named entities, but only if they are a compound of more than word.\n",
    "        doc.extend([str(entity) for entity in ents if len(entity) > 1])\n",
    "        processed_docs.append(doc)\n",
    "    docs = processed_docs\n",
    "    del processed_docs\n",
    "    \n",
    "    # Compute bigrams.\n",
    "\n",
    "    from gensim.models import Phrases\n",
    "\n",
    "    # Add bigrams and trigrams to docs (only ones that appear 20 times or more).\n",
    "    bigram = Phrases(docs, min_count=20)\n",
    "    for idx in range(len(docs)):\n",
    "        for token in bigram[docs[idx]]:\n",
    "            if '_' in token:\n",
    "                # Token is a bigram, add to document.\n",
    "                docs[idx].append(token)\n",
    "    return docs, author2doc"
   ]
  },
  {
   "cell_type": "markdown",
   "metadata": {},
   "source": [
    "We create the corpus of the train and test data using two separate functions, since each corpus is tied to a certain dictionary which maps the words to their ids. Also in order to create the test corpus, we use the dictionary from the train data, since the trained model has have the same id2word reference as the new test data. Otherwise token with id 1 from the test data wont't mean the same as the trained upon token with id 1 in the model."
   ]
  },
  {
   "cell_type": "code",
   "execution_count": null,
   "metadata": {
    "collapsed": true
   },
   "outputs": [],
   "source": [
    "def create_corpus_dictionary(docs, max_freq=0.5, min_wordcount=20):\n",
    "    # Create a dictionary representation of the documents, and filter out frequent and rare words.\n",
    "    from gensim.corpora import Dictionary\n",
    "    dictionary = Dictionary(docs)\n",
    "\n",
    "    # Remove rare and common tokens.\n",
    "    # Filter out words that occur too frequently or too rarely.\n",
    "    max_freq = max_freq\n",
    "    min_wordcount = min_wordcount\n",
    "    dictionary.filter_extremes(no_below=min_wordcount, no_above=max_freq)\n",
    "\n",
    "    _ = dictionary[0]  # This sort of \"initializes\" dictionary.id2token.\n",
    "\n",
    "    # Vectorize data.\n",
    "    # Bag-of-words representation of the documents.\n",
    "    corpus = [dictionary.doc2bow(doc) for doc in docs]\n",
    "\n",
    "    return corpus, dictionary\n",
    "\n",
    "def create_test_corpus(train_dictionary, docs):\n",
    "    # Create test corpus using the dictionary from the train data.\n",
    "    return [train_dictionary.doc2bow(doc) for doc in docs]"
   ]
  },
  {
   "cell_type": "markdown",
   "metadata": {},
   "source": [
    "For our first training, we specify that we want the parameters max_freq and min_wordcoun to be 50 and 20, as proposed by the original notebook tutorial. We will find out if this configuration is good enough for us."
   ]
  },
  {
   "cell_type": "code",
   "execution_count": null,
   "metadata": {
    "scrolled": false
   },
   "outputs": [],
   "source": [
    "traindata_dir = \"/tmp/C50train\"\n",
    "train_docs, train_author2doc = preprocess_docs(traindata_dir)\n",
    "train_corpus_50_20, train_dictionary_50_20 = create_corpus_dictionary(train_docs, 0.5, 20)"
   ]
  },
  {
   "cell_type": "code",
   "execution_count": null,
   "metadata": {},
   "outputs": [],
   "source": [
    "print('Number of unique tokens: %d' % len(train_dictionary_50_20))"
   ]
  },
  {
   "cell_type": "code",
   "execution_count": null,
   "metadata": {
    "scrolled": false
   },
   "outputs": [],
   "source": [
    "testdata_dir = \"/tmp/C50test\"\n",
    "test_docs, test_author2doc = preprocess_docs(testdata_dir)\n",
    "test_corpus_50_20 = create_test_corpus(train_dictionary_50_20, test_docs)"
   ]
  },
  {
   "cell_type": "markdown",
   "metadata": {},
   "source": [
    "We wrap the model training also in a function, in order to, again, be able to iterate over different parametrizations."
   ]
  },
  {
   "cell_type": "code",
   "execution_count": null,
   "metadata": {
    "collapsed": true
   },
   "outputs": [],
   "source": [
    "def train_model(corpus, author2doc, dictionary, num_topics=20, eval_every=0, iterations=50, passes=20):\n",
    "    from gensim.models import AuthorTopicModel\n",
    "    \n",
    "    model = AuthorTopicModel(corpus=corpus, num_topics=num_topics, id2word=dictionary.id2token, \\\n",
    "                    author2doc=author2doc, chunksize=2500, passes=passes, \\\n",
    "                    eval_every=eval_every, iterations=iterations, random_state=1)\n",
    "    top_topics = model.top_topics(corpus)\n",
    "    tc = sum([t[1] for t in top_topics]) \n",
    "    print(tc / num_topics)\n",
    "    return model"
   ]
  },
  {
   "cell_type": "code",
   "execution_count": null,
   "metadata": {
    "collapsed": true
   },
   "outputs": [],
   "source": [
    "# NOTE: Author of the logic of this function is the Olavur Mortensen, from his notebook tutorial.\n",
    "\n",
    "def predict_author(new_doc, atmodel, top_n=10, smallest_author=1):\n",
    "    from gensim import matutils\n",
    "    import pandas as pd\n",
    "\n",
    "    def similarity(vec1, vec2):\n",
    "        '''Get similarity between two vectors'''\n",
    "        dist = matutils.hellinger(matutils.sparse2full(vec1, atmodel.num_topics), \\\n",
    "                                  matutils.sparse2full(vec2, atmodel.num_topics))\n",
    "        sim = 1.0 / (1.0 + dist)\n",
    "        return sim\n",
    "\n",
    "    def get_sims(vec):\n",
    "        '''Get similarity of vector to all authors.'''\n",
    "        sims = [similarity(vec, vec2) for vec2 in author_vecs]\n",
    "        return sims\n",
    "\n",
    "    author_vecs = [atmodel.get_author_topics(author) for author in atmodel.id2author.values()]\n",
    "    new_doc_topics = atmodel.get_new_author_topics(new_doc)\n",
    "    # Get similarities.\n",
    "    sims = get_sims(new_doc_topics)\n",
    "\n",
    "    # Arrange author names, similarities, and author sizes in a list of tuples.\n",
    "    table = []\n",
    "    for elem in enumerate(sims):\n",
    "        author_name = atmodel.id2author[elem[0]]\n",
    "        sim = elem[1]\n",
    "        author_size = len(atmodel.author2doc[author_name])\n",
    "        if author_size >= smallest_author:\n",
    "            table.append((author_name, sim, author_size))\n",
    "\n",
    "    # Make dataframe and retrieve top authors.\n",
    "    df = pd.DataFrame(table, columns=['Author', 'Score', 'Size'])\n",
    "    df = df.sort_values('Score', ascending=False)[:top_n]\n",
    "\n",
    "    return df\n"
   ]
  },
  {
   "cell_type": "markdown",
   "metadata": {},
   "source": [
    "We define a custom function, which measures the prediction accuracy, following the [precision at k](https://en.wikipedia.org/wiki/Information_retrieval#Precision_at_K) principle. We parametrize the accuracy by a parameter k, k=1 meaning we need an exact match in order to be accurate, k=5 meaning our prediction has be in the top 5 results, ordered by similarity."
   ]
  },
  {
   "cell_type": "code",
   "execution_count": null,
   "metadata": {
    "collapsed": true
   },
   "outputs": [],
   "source": [
    "def prediction_accuracy(test_author2doc, test_corpus, model, k=5):\n",
    "\n",
    "    print(\"Precision@k: top_n={}\".format(k))\n",
    "    matches=0\n",
    "    tries = 0\n",
    "    for author in test_author2doc:\n",
    "        author_id = model.author2id[author]\n",
    "        for doc_id in test_author2doc[author]:\n",
    "            predicted_authors = predict_author(test_corpus[doc_id:doc_id+1], atmodel=model, top_n=k)\n",
    "            tries = tries+1\n",
    "            if author_id in predicted_authors[\"Author\"]:\n",
    "                matches=matches+1\n",
    "\n",
    "    accuracy = matches/tries\n",
    "    print(\"Prediction accuracy: {}\".format(accuracy))\n",
    "    return accuracy, k"
   ]
  },
  {
   "cell_type": "code",
   "execution_count": null,
   "metadata": {
    "collapsed": true
   },
   "outputs": [],
   "source": [
    "def plot_accuracy(scores1, label1, scores2=None, label2=None):\n",
    "    \n",
    "    import matplotlib.pyplot as plt\n",
    "    s = [score*100 for score in scores1.values()]\n",
    "    t = list(scores1.keys())\n",
    "\n",
    "    plt.plot(t, s, \"b-\", label=label1)\n",
    "    plt.plot(t, s, \"r^\", label=label1+\" data points\")\n",
    "    \n",
    "    if scores2 is not None:\n",
    "        s2 = [score*100 for score in scores2.values()]\n",
    "        plt.plot(t, s2, label=label2)\n",
    "        plt.plot(t, s2, \"o\", label=label2+\" data points\")\n",
    "        \n",
    "    plt.legend(loc=\"lower right\")\n",
    "\n",
    "    plt.xlabel('parameter k')\n",
    "    plt.ylabel('prediction accuracy')\n",
    "    plt.title('Precision at k')\n",
    "    plt.xticks(t)\n",
    "    plt.grid(True)\n",
    "    plt.yticks([30,40,50,60,70,80,90,100])\n",
    "    plt.axis([0, 11, 30, 100])\n",
    "    plt.show()"
   ]
  },
  {
   "cell_type": "markdown",
   "metadata": {},
   "source": [
    "We calculate the accuracy for a range of values for k=[1,2,3,4,5,6,8,10] and plot how exactly the prediction accuracy naturally rises with higher k."
   ]
  },
  {
   "cell_type": "code",
   "execution_count": null,
   "metadata": {
    "scrolled": true
   },
   "outputs": [],
   "source": [
    "atmodel_standard = train_model(train_corpus_50_20, train_author2doc, train_dictionary_50_20)"
   ]
  },
  {
   "cell_type": "markdown",
   "metadata": {},
   "source": [
    "We run our first training and observe that the **passes** and **iterations** parameters are set high enough, so that the model converges.\n",
    "\n",
    "07:47:24 INFO:PROGRESS: pass 15, at document #2500/2500\n",
    "\n",
    "07:47:24 DEBUG:performing inference on a chunk of 2500 documents \n",
    "\n",
    "07:47:27 DEBUG:2500/2500 documents converged within 50 iterations \n",
    "\n",
    "Tells us that the model indeed conveges well."
   ]
  },
  {
   "cell_type": "code",
   "execution_count": null,
   "metadata": {},
   "outputs": [],
   "source": [
    "accuracy_scores_20topic={}\n",
    "for i in [1,2,3,4,5,6,8,10]:\n",
    "    accuracy, k = prediction_accuracy(test_author2doc, test_corpus_50_20, atmodel_standard, k=i)\n",
    "    accuracy_scores_20topic[k] = accuracy\n",
    "    \n",
    "plot_accuracy(scores1=accuracy_scores_20topic, label1=\"20 topics\")"
   ]
  },
  {
   "cell_type": "markdown",
   "metadata": {},
   "source": [
    "This is a rather poor accuracy performace. We increase the number of topic to 100."
   ]
  },
  {
   "cell_type": "code",
   "execution_count": null,
   "metadata": {
    "scrolled": true
   },
   "outputs": [],
   "source": [
    "atmodel_100topics = train_model(train_corpus_50_20, train_author2doc, train_dictionary_50_20, num_topics=100, eval_every=0, iterations=50, passes=10)"
   ]
  },
  {
   "cell_type": "code",
   "execution_count": null,
   "metadata": {
    "scrolled": false
   },
   "outputs": [],
   "source": [
    "accuracy_scores_100topic={}\n",
    "for i in [1,2,3,4,5,6,8,10]:\n",
    "    accuracy, k = prediction_accuracy(test_author2doc, test_corpus_50_20, atmodel_100topics, k=i)\n",
    "    accuracy_scores_100topic[k] = accuracy\n",
    "    \n",
    "plot_accuracy(scores1=accuracy_scores_20topic, label1=\"20 topics\", scores2=accuracy_scores_100topic, label2=\"100 topics\")"
   ]
  },
  {
   "cell_type": "markdown",
   "metadata": {},
   "source": [
    "The 100-topic model is much more accurate than the 20-topic model. We continue to increase the topic until convergence."
   ]
  },
  {
   "cell_type": "code",
   "execution_count": null,
   "metadata": {
    "scrolled": true
   },
   "outputs": [],
   "source": [
    "atmodel_150topics = train_model(train_corpus_50_20, train_author2doc, train_dictionary_50_20, num_topics=150, eval_every=0, iterations=50, passes=15)"
   ]
  },
  {
   "cell_type": "code",
   "execution_count": null,
   "metadata": {},
   "outputs": [],
   "source": [
    "accuracy_scores_150topic={}\n",
    "for i in [1,2,3,4,5,6,8,10]:\n",
    "    accuracy, k = prediction_accuracy(test_author2doc, test_corpus_50_20, atmodel_150topics, k=i)\n",
    "    accuracy_scores_150topic[k] = accuracy\n",
    "    \n",
    "plot_accuracy(scores1=accuracy_scores_100topic, label1=\"100 topics\", scores2=accuracy_scores_150topic, label2=\"150 topics\")"
   ]
  },
  {
   "cell_type": "markdown",
   "metadata": {},
   "source": [
    "The 150-topic model is also slightly better, especially in the lower end of k. But we clearly see convergence. We try with 200 topic to be sure."
   ]
  },
  {
   "cell_type": "code",
   "execution_count": null,
   "metadata": {
    "scrolled": true
   },
   "outputs": [],
   "source": [
    "atmodel_200topics = train_model(train_corpus_50_20, train_author2doc, train_dictionary_50_20, num_topics=200, eval_every=0, iterations=50, passes=15)"
   ]
  },
  {
   "cell_type": "code",
   "execution_count": null,
   "metadata": {},
   "outputs": [],
   "source": [
    "accuracy_scores_200topic={}\n",
    "for i in [1,2,3,4,5,6,8,10]:\n",
    "    accuracy, k = prediction_accuracy(test_author2doc, test_corpus_50_20, atmodel_200topics, k=i)\n",
    "    accuracy_scores_200topic[k] = accuracy\n",
    "    \n",
    "plot_accuracy(scores1=accuracy_scores_150topic, label1=\"150 topics\", scores2=accuracy_scores_200topic, label2=\"200 topics\")"
   ]
  },
  {
   "cell_type": "markdown",
   "metadata": {
    "collapsed": true
   },
   "source": [
    "The 200-topic seems to be performing a bit better for lower k, might be due to a slight overrepresentation with high topic number. So let us stop here with the topic number increase and focus some more on the dictionary. We choose either one of the models.\n",
    "Currently we are filtering out tokens, that appear in more 50% of all documents and no more than 20 times overall, which drastically decreaces the size of our dictionary. \n",
    "We know about this dataset, that the underlying topic are not so diverse and are structed around corporate/industrial topic class. Thus it makes sense to increase the dictionary by filtering less tokens."
   ]
  },
  {
   "cell_type": "markdown",
   "metadata": {},
   "source": [
    "We set the parameters set max_freq=25%, min_wordcount=10"
   ]
  },
  {
   "cell_type": "code",
   "execution_count": null,
   "metadata": {},
   "outputs": [],
   "source": [
    "train_corpus_25_10, train_dictionary_25_10 = create_corpus_dictionary(train_docs, 0.25, 10)"
   ]
  },
  {
   "cell_type": "code",
   "execution_count": null,
   "metadata": {
    "collapsed": true
   },
   "outputs": [],
   "source": [
    "test_corpus_25_10 = create_test_corpus(train_dictionary_25_10, test_docs)"
   ]
  },
  {
   "cell_type": "code",
   "execution_count": null,
   "metadata": {},
   "outputs": [],
   "source": [
    "print('Number of unique tokens: %d' % len(train_dictionary_25_10))"
   ]
  },
  {
   "cell_type": "markdown",
   "metadata": {},
   "source": [
    "We now have now nearly doubled the tokens. Let's train and evaluate."
   ]
  },
  {
   "cell_type": "code",
   "execution_count": null,
   "metadata": {
    "scrolled": true
   },
   "outputs": [],
   "source": [
    "atmodel_150topics_25_10 = train_model(train_corpus_25_10, train_author2doc, train_dictionary_25_10, num_topics=150, eval_every=0, iterations=50, passes=15)"
   ]
  },
  {
   "cell_type": "code",
   "execution_count": null,
   "metadata": {},
   "outputs": [],
   "source": [
    "accuracy_scores_150topic_25_10={}\n",
    "for i in [1,2,3,4,5,6,8,10]:\n",
    "    accuracy, k = prediction_accuracy(test_author2doc, test_corpus_25_10, atmodel_150topics_25_10, k=i)\n",
    "    accuracy_scores_150topic_25_10[k] = accuracy\n",
    "    \n",
    "plot_accuracy(scores1=accuracy_scores_150topic_25_10, label1=\"150 topics, max_freq=25%, min_wordcount=10\", scores2=accuracy_scores_150topic, label2=\"150 topics, standard\")"
   ]
  },
  {
   "cell_type": "markdown",
   "metadata": {},
   "source": [
    "The results seem rather ambigious and do not show a clear trend. Which is why we would stop here for the iterations."
   ]
  }
 ],
 "metadata": {
  "kernelspec": {
   "display_name": "Python 3",
   "language": "python",
   "name": "python3"
  },
  "language_info": {
   "codemirror_mode": {
    "name": "ipython",
    "version": 3
   },
   "file_extension": ".py",
   "mimetype": "text/x-python",
   "name": "python",
   "nbconvert_exporter": "python",
   "pygments_lexer": "ipython3",
   "version": "3.5.6"
  }
 },
 "nbformat": 4,
 "nbformat_minor": 2
}
